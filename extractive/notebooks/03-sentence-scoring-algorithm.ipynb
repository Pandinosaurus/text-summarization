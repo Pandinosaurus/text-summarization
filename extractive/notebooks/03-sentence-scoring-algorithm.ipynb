{
 "cells": [
  {
   "cell_type": "markdown",
   "metadata": {
    "colab_type": "text",
    "id": "rD_YN9ZB-Gg3"
   },
   "source": [
    "# Capstone Project - Text Summarization "
   ]
  },
  {
   "cell_type": "markdown",
   "metadata": {
    "colab_type": "text",
    "id": "NgtySfYJ-8QQ"
   },
   "source": [
    "# Prototype"
   ]
  },
  {
   "cell_type": "markdown",
   "metadata": {
    "colab_type": "text",
    "id": "CqxX0KwN-Gg9"
   },
   "source": [
    "## Contents\n",
    "1. Data loading\n",
    "2. Prototype\n",
    "3. Prediction Dataframe\n",
    "4. ROUGE\n",
    "5. Performance comparison with different parameters"
   ]
  },
  {
   "cell_type": "markdown",
   "metadata": {
    "colab_type": "text",
    "id": "5RV6raVW-GhC"
   },
   "source": [
    "## 1. Data loading"
   ]
  },
  {
   "cell_type": "code",
   "execution_count": 1,
   "metadata": {
    "colab": {},
    "colab_type": "code",
    "id": "gEeYrSbh-GhG"
   },
   "outputs": [],
   "source": [
    "from os import listdir\n",
    "import pandas as pd\n",
    "import time\n",
    "from nltk.corpus import stopwords\n",
    "from nltk.stem import PorterStemmer\n",
    "from nltk.stem.wordnet import WordNetLemmatizer\n",
    "from nltk.tokenize import word_tokenize, sent_tokenize, RegexpTokenizer\n",
    "from nltk.util import ngrams\n",
    "from nltk import pos_tag\n",
    "import re\n",
    "import string\n",
    "import textwrap\n",
    "import numpy as np\n",
    "import matplotlib.pyplot as plt\n",
    "import seaborn as sns"
   ]
  },
  {
   "cell_type": "code",
   "execution_count": 2,
   "metadata": {
    "colab": {
     "base_uri": "https://localhost:8080/",
     "height": 71
    },
    "colab_type": "code",
    "executionInfo": {
     "elapsed": 105812,
     "status": "ok",
     "timestamp": 1560947978204,
     "user": {
      "displayName": "Guilherme Lopasso",
      "photoUrl": "https://lh5.googleusercontent.com/-Q6wxH-XDx-4/AAAAAAAAAAI/AAAAAAAAHiU/tKZS3GXLKSI/s64/photo.jpg",
      "userId": "01495631926165908216"
     },
     "user_tz": 180
    },
    "id": "rG9cos84K0x-",
    "outputId": "34430127-2669-46b0-cccf-cf777eda12b9"
   },
   "outputs": [],
   "source": [
    "# paths to main files\n",
    "ROOT_DIRECTORY ='../data/'\n",
    "DATA_CLEANED_DIRECTORY = ROOT_DIRECTORY + 'cleaned/'\n",
    "FILE_CORPUS = 'corpus_clean_dataframe_with_statistics.pkl'"
   ]
  },
  {
   "cell_type": "code",
   "execution_count": 3,
   "metadata": {
    "colab": {},
    "colab_type": "code",
    "id": "Tm1ASil6BX5v"
   },
   "outputs": [],
   "source": [
    "corpus = pd.read_pickle(DATA_CLEANED_DIRECTORY + FILE_CORPUS)"
   ]
  },
  {
   "cell_type": "code",
   "execution_count": 4,
   "metadata": {
    "colab": {
     "base_uri": "https://localhost:8080/",
     "height": 202
    },
    "colab_type": "code",
    "executionInfo": {
     "elapsed": 783,
     "status": "ok",
     "timestamp": 1560954698414,
     "user": {
      "displayName": "Guilherme Lopasso",
      "photoUrl": "https://lh5.googleusercontent.com/-Q6wxH-XDx-4/AAAAAAAAAAI/AAAAAAAAHiU/tKZS3GXLKSI/s64/photo.jpg",
      "userId": "01495631926165908216"
     },
     "user_tz": 180
    },
    "id": "WWVkJjX2BYVJ",
    "outputId": "64317335-881e-4e6a-cd5d-3f44594bab1e"
   },
   "outputs": [
    {
     "data": {
      "text/html": [
       "<div>\n",
       "<style scoped>\n",
       "    .dataframe tbody tr th:only-of-type {\n",
       "        vertical-align: middle;\n",
       "    }\n",
       "\n",
       "    .dataframe tbody tr th {\n",
       "        vertical-align: top;\n",
       "    }\n",
       "\n",
       "    .dataframe thead th {\n",
       "        text-align: right;\n",
       "    }\n",
       "</style>\n",
       "<table border=\"1\" class=\"dataframe\">\n",
       "  <thead>\n",
       "    <tr style=\"text-align: right;\">\n",
       "      <th></th>\n",
       "      <th>article</th>\n",
       "      <th>summary</th>\n",
       "      <th>article_char_count</th>\n",
       "      <th>article_word_count</th>\n",
       "      <th>article_sentence_count</th>\n",
       "      <th>summary_char_count</th>\n",
       "      <th>summary_word_count</th>\n",
       "      <th>summary_sentence_count</th>\n",
       "    </tr>\n",
       "  </thead>\n",
       "  <tbody>\n",
       "    <tr>\n",
       "      <th>8581</th>\n",
       "      <td>The Federal Aviation Administration said Frida...</td>\n",
       "      <td>Sources say Bieber and his father were \"extrem...</td>\n",
       "      <td>3050</td>\n",
       "      <td>503</td>\n",
       "      <td>23</td>\n",
       "      <td>280</td>\n",
       "      <td>43</td>\n",
       "      <td>4</td>\n",
       "    </tr>\n",
       "  </tbody>\n",
       "</table>\n",
       "</div>"
      ],
      "text/plain": [
       "                                                article  \\\n",
       "8581  The Federal Aviation Administration said Frida...   \n",
       "\n",
       "                                                summary  article_char_count  \\\n",
       "8581  Sources say Bieber and his father were \"extrem...                3050   \n",
       "\n",
       "      article_word_count  article_sentence_count  summary_char_count  \\\n",
       "8581                 503                      23                 280   \n",
       "\n",
       "      summary_word_count  summary_sentence_count  \n",
       "8581                  43                       4  "
      ]
     },
     "execution_count": 4,
     "metadata": {},
     "output_type": "execute_result"
    }
   ],
   "source": [
    "corpus.sample()"
   ]
  },
  {
   "cell_type": "markdown",
   "metadata": {
    "colab_type": "text",
    "id": "_nlUHELbPI2M"
   },
   "source": [
    "## 2. Prototype"
   ]
  },
  {
   "cell_type": "code",
   "execution_count": null,
   "metadata": {
    "colab": {
     "base_uri": "https://localhost:8080/",
     "height": 197
    },
    "colab_type": "code",
    "executionInfo": {
     "elapsed": 3168,
     "status": "ok",
     "timestamp": 1561033350129,
     "user": {
      "displayName": "Guilherme Lopasso",
      "photoUrl": "https://lh5.googleusercontent.com/-Q6wxH-XDx-4/AAAAAAAAAAI/AAAAAAAAHiU/tKZS3GXLKSI/s64/photo.jpg",
      "userId": "01495631926165908216"
     },
     "user_tz": 180
    },
    "id": "An3mIlsUHSQJ",
    "outputId": "c3024bdf-26c8-4b21-9024-f8484421072c"
   },
   "outputs": [],
   "source": [
    "import nltk\n",
    "nltk.download('stopwords')\n",
    "nltk.download('punkt')\n",
    "nltk.download('wordnet')\n",
    "nltk.download('averaged_perceptron_tagger')"
   ]
  },
  {
   "cell_type": "markdown",
   "metadata": {
    "colab_type": "text",
    "id": "PSR0sqyr4P4w"
   },
   "source": [
    "### How the summarization algorithm works\n",
    "![](./prototype_chart.png)\n",
    "\n",
    "The run_article_summary function gets three main inputs: \n",
    "- the article to summarize\n",
    "- the parameters for counting words in sentences, which can be based on stems or lemmar, and the range of n-grams, which can be 1-gram (unique words) or 2-grams (pairs of sequencial words), 3-grams, etc\n",
    "- threshold factor: a float number >= 1 to weight each sentence score against the average score of sentences. \n",
    "\n",
    "The main components are:\n",
    "1. \\_create_dictionary_table: create a frequency_table, counting the total n-grams in the article, based on stems or lemmas\n",
    "2. sent_tokenizer: function from nltk library to tokenize sentences in a string, giving back a list of strings, each string a sentence\n",
    "3. \\_calculate_sentence_scores: based on the sentences lists and the frequency table, will score each sentence based on the frequency apperance of each sentence n-gram in the whole article. Returns a dictionary with the score for each sentence\n",
    "4. \\_calculate_average_score: find the average of sentences scores in the article. This will form a basic threshold to select to extract sentences from the article to form the summary\n",
    "5. \\_get_article_summary: Extract from the article only the sentences that have scores that are equal or greater than a threshold, which is the average score of sentences multiplied by a factor"
   ]
  },
  {
   "cell_type": "code",
   "execution_count": 6,
   "metadata": {
    "colab": {},
    "colab_type": "code",
    "id": "I-s4i_XWzj9o"
   },
   "outputs": [],
   "source": [
    "PUNCTUATION = ['\"', \"'\", '.', '...', '!', '?', '(', ')', '[', ']', '{', '}', '\\\\', '/', ':', ',', '...',\n",
    "               '$', '#', '%', '*', '%', '$', '#', '@', '--', '-', '_', '+', '=', '^', \"''\", '\"\"', '']\n",
    "\n",
    "\n",
    "# utility funcitons()\n",
    "\n",
    "def tokens_without_punctuation(text):\n",
    "    '''\n",
    "     Extract words from a piece of text, removing any punctuation\n",
    "    :param text: text to be tokenized into words. Could be a text with several sentences or an unique sentence\n",
    "    :return: list of words from text, without punctuation\n",
    "    '''\n",
    "    tokens = word_tokenize(text)\n",
    "    no_punctuation = [x for x in tokens if not re.fullmatch('[' + string.punctuation + ']+', x)]\n",
    "    return no_punctuation\n",
    "\n",
    "\n",
    "def  sentence_tokenize(text):\n",
    "     '''\n",
    "     Correctly separates in unique sentence, sentences that are terminated by newline \"/n\"  but without punctuation\n",
    "     :param text: a string with the text to have sentences separated\n",
    "     :return: a list of strings, each one a sentence from text\n",
    "     '''\n",
    "     sentence_tokenized = list()\n",
    "     for txt in text.split('\\n'):\n",
    "          sentence_tokenized += sent_tokenize(txt)\n",
    "     return sentence_tokenized\n",
    "\n",
    "\n",
    "def _create_list_of_tokens(words_lst, tokenizer):\n",
    "     '''\n",
    "     Given a list of words, returns a list of tokens that might be lemmas or stems, cleaned from stop words\n",
    "     :param words_lst: list of words to be tokenized\n",
    "     :param tokenizer: (string) can be 'lemma' or 'stem'\n",
    "     :return: list of tokens (strings), cleaned from stop words\n",
    "     '''\n",
    "     stop_words = set(stopwords.words('english'))\n",
    "     stop_words.update(PUNCTUATION)\n",
    "\n",
    "     if tokenizer == 'lemma':\n",
    "          token_maker = lambda word: WordNetLemmatizer().lemmatize(word).lower()\n",
    "     else:\n",
    "          token_maker = lambda word: PorterStemmer().stem(word).lower()\n",
    "     token_lst = list()\n",
    "     for word in words_lst:\n",
    "          token = token_maker(word)\n",
    "          if token not in stop_words:\n",
    "               token_lst.append(token)\n",
    "     return token_lst\n",
    "\n",
    "\n",
    "def _create_list_of_ngrams(token_lst, n_gram):\n",
    "     '''\n",
    "     Given a list of tokens retuns a unique list consolidating from unigram up to the required n-grams\n",
    "     :param token_lst: list of tokens that could be stems or lemmas\n",
    "     :param n_gram:  (string) the highest n-gram type ordered (e.g.: '1-gram', '2-gram', '3-gram', etc)\n",
    "     :return: consolidated cummulative list of all ranges n-gram, from the unigrams up to the required n-grams\n",
    "     '''\n",
    "     n_gram_lst = []\n",
    "     n = int(n_gram[0])\n",
    "     for i in range(1, n + 1):\n",
    "          i_grams = ngrams(token_lst, i)\n",
    "          n_gram_lst += [' '.join(grams) for grams in i_grams]\n",
    "     return n_gram_lst\n"
   ]
  },
  {
   "cell_type": "code",
   "execution_count": 7,
   "metadata": {
    "colab": {},
    "colab_type": "code",
    "id": "KMJvB9TDBY-F"
   },
   "outputs": [],
   "source": [
    "def _create_dictionary_table(text, tokenizer = 'stem', n_gram = '1-gram'):\n",
    "  \n",
    "    # words tokenized\n",
    "    words_lst = tokens_without_punctuation(text)\n",
    "    # list of tokens (stems or lemmas)\n",
    "    token_lst = _create_list_of_tokens(words_lst, tokenizer)\n",
    "    # list on n-grams according to the input, ranging from 1-gram up to the n_gram \n",
    "    n_gram_lst = _create_list_of_ngrams(token_lst, n_gram)\n",
    "    # create dictionary to count the frequency of n-grams\n",
    "    frequency_table = dict()\n",
    "    for n_gram_item in n_gram_lst:  \n",
    "          if n_gram_item in frequency_table:\n",
    "              frequency_table[n_gram_item] += 1\n",
    "          else:\n",
    "              frequency_table[n_gram_item] = 1\n",
    "    \n",
    "    return frequency_table\n",
    "\n",
    "\n",
    "def _calculate_sentence_scores(sentences, frequency_table, tokenizer = 'stem', n_gram = '1-gram') -> dict:   \n",
    "\n",
    "    #algorithm for scoring a sentence by its n-grams\n",
    "    sentence_weight = dict()\n",
    "    \n",
    "\n",
    "    for sentence in sentences:\n",
    "        words_lst = tokens_without_punctuation(sentence)\n",
    "        # list of tokens (stems or lemmas)\n",
    "        token_lst = _create_list_of_tokens(words_lst, tokenizer)\n",
    "        # list on n-grams according to the input, ranging from 1-gram up to the n_gram \n",
    "        n_gram_lst = _create_list_of_ngrams(token_lst, n_gram)\n",
    "        sentence_n_gram_count_without_stop_words = 0\n",
    "        for n_gram_item in n_gram_lst:\n",
    "            \n",
    "            if n_gram_item in frequency_table:\n",
    "                sentence_n_gram_count_without_stop_words += 1\n",
    "                if sentence in sentence_weight:\n",
    "                    sentence_weight[sentence] += frequency_table[n_gram_item]\n",
    "                else:\n",
    "                    sentence_weight[sentence] = frequency_table[n_gram_item]\n",
    "                    \n",
    "        # take the average score of the sentence            \n",
    "        # make sentences with only stop words to have zero score\n",
    "        # also make sentences of single-character sentences of punctuation or special characters to have zero score       \n",
    "        if sentence in sentence_weight and sentence_weight[sentence] > 0:\n",
    "          sentence_weight[sentence] = sentence_weight[sentence] / sentence_n_gram_count_without_stop_words\n",
    "        else:\n",
    "          sentence_weight[sentence] = 0\n",
    "    \n",
    "    return sentence_weight\n",
    "  \n",
    " \n",
    "\n",
    "def _calculate_average_score(sentence_weight) -> int:\n",
    "   \n",
    "    #calculating the average score for the sentences\n",
    "    sum_values = 0\n",
    "    for entry in sentence_weight:\n",
    "        sum_values += sentence_weight[entry]\n",
    "\n",
    "    #getting sentence average value from source text\n",
    "    average_score = (sum_values / len(sentence_weight))\n",
    "    \n",
    "    return average_score\n",
    "\n",
    "def _get_article_summary(sentences, sentence_weight, threshold):\n",
    "    sentence_counter = 0\n",
    "    article_summary = ''\n",
    "\n",
    "    for sentence in sentences:\n",
    "        if sentence in sentence_weight and sentence_weight[sentence] >= (threshold):\n",
    "            article_summary += \" \" + sentence\n",
    "            sentence_counter += 1\n",
    "\n",
    "    return article_summary\n",
    "\n",
    "def run_article_summary(article, tokenizer = 'stem', n_gram = '1-gram', threshold_factor = 1):\n",
    "    \n",
    "    #creating a dictionary for the word frequency table\n",
    "    frequency_table = _create_dictionary_table(article, tokenizer, n_gram)\n",
    "\n",
    "    #tokenizing the sentences\n",
    "    sentences = sentence_tokenize(article)\n",
    "\n",
    "    #algorithm for scoring a sentence by its words\n",
    "    sentence_scores = _calculate_sentence_scores(sentences, frequency_table, tokenizer, n_gram)\n",
    "\n",
    "    #getting the threshold\n",
    "    average_score = _calculate_average_score(sentence_scores)\n",
    "\n",
    "    #producing the summary\n",
    "    article_summary = _get_article_summary(sentences, sentence_scores, threshold_factor*average_score)\n",
    "\n",
    "    return article_summary\n",
    "\n"
   ]
  },
  {
   "cell_type": "code",
   "execution_count": 8,
   "metadata": {
    "colab": {},
    "colab_type": "code",
    "id": "flNA1pDih58i"
   },
   "outputs": [],
   "source": [
    "def nice_print(article = None, reference_summary = None, hypothesis_summary = None, width  = 80):\n",
    "  dedented_text = lambda text: textwrap.dedent(text).strip()\n",
    "  if article:\n",
    "    print('ARTICLE')\n",
    "    print(textwrap.fill(dedented_text(article), width=width), '\\n')\n",
    "  if reference_summary:\n",
    "    print('REFERENCE SUMMARY')\n",
    "    print(textwrap.fill(dedented_text(reference_summary), width=width), '\\n')\n",
    "  if hypothesis_summary:\n",
    "    print('HYPOTHESIS SUMMARY')\n",
    "    print(textwrap.fill(dedented_text(hypothesis_summary), width=width), '\\n')\n"
   ]
  },
  {
   "cell_type": "code",
   "execution_count": 9,
   "metadata": {
    "colab": {},
    "colab_type": "code",
    "id": "Q3NNUi1Hp0Rw"
   },
   "outputs": [],
   "source": [
    "#idx = corpus.sample(1).index"
   ]
  },
  {
   "cell_type": "code",
   "execution_count": 10,
   "metadata": {
    "colab": {},
    "colab_type": "code",
    "id": "olcYUFzXJ1FW"
   },
   "outputs": [],
   "source": [
    "idx = 83838"
   ]
  },
  {
   "cell_type": "code",
   "execution_count": 11,
   "metadata": {
    "colab": {
     "base_uri": "https://localhost:8080/",
     "height": 647
    },
    "colab_type": "code",
    "executionInfo": {
     "elapsed": 544,
     "status": "ok",
     "timestamp": 1560957076521,
     "user": {
      "displayName": "Guilherme Lopasso",
      "photoUrl": "https://lh5.googleusercontent.com/-Q6wxH-XDx-4/AAAAAAAAAAI/AAAAAAAAHiU/tKZS3GXLKSI/s64/photo.jpg",
      "userId": "01495631926165908216"
     },
     "user_tz": 180
    },
    "id": "jyauNlRIBZY8",
    "outputId": "32720437-0bf6-4805-eeae-348c145d1f4a"
   },
   "outputs": [
    {
     "name": "stdout",
     "output_type": "stream",
     "text": [
      "ARTICLE\n",
      "NASA engineers will repair small cracks found on the space shuttle Discovery's\n",
      "external fuel tank -- a development that could further delay its launch. \"The\n",
      "X-rays showed four additional small cracks on three stringers on the opposite\n",
      "side of the tank from Discovery, and managers elected to repair those cracks\n",
      "...\" NASA said in a statement. The work is expected to take two to three days.\n",
      "Additional repairs may be needed, NASA said. The cracks on support beams called\n",
      "\"stringers\" showed up during the latest round of image scans that NASA has been\n",
      "conducting to determine when the shuttle can take off, the space agency said\n",
      "Thursday. The earliest possible launch date is February 3, according to the\n",
      "agency. Earlier cracks found in the foam covering the fuel tank have repeatedly\n",
      "delayed the shuttle's final launch, originally scheduled for November 1.\n",
      "Technicians repaired the cracks and reapplied foam insulation on aluminum\n",
      "brackets on the tank in November. The foam cracked while the tank was being\n",
      "filled November 5 for the shuttle's planned launch to the International Space\n",
      "Station. Discovery is scheduled to deliver a storage module, a science rig and\n",
      "spare parts to the orbiting facility. The delay means the final launch of\n",
      "Endeavour, which is also scheduled to be the last launch of the space shuttle\n",
      "program, is likely to be delayed until April 1, said Bill Gerstenmaier,\n",
      "associate administrator for space operations. \n",
      "\n",
      "REFERENCE SUMMARY\n",
      "Cracks found in the foam covering the tank have caused delays. Repairs will take\n",
      "two to three days. The tests will give engineers data to decide when the shuttle\n",
      "can launch. Discovery is scheduled to deliver spare parts to the International\n",
      "Space Station. \n",
      "\n",
      "HYPOTHESIS SUMMARY\n",
      "NASA engineers will repair small cracks found on the space shuttle Discovery's\n",
      "external fuel tank -- a development that could further delay its launch. Earlier\n",
      "cracks found in the foam covering the fuel tank have repeatedly delayed the\n",
      "shuttle's final launch, originally scheduled for November 1. The foam cracked\n",
      "while the tank was being filled November 5 for the shuttle's planned launch to\n",
      "the International Space Station. \n",
      "\n"
     ]
    }
   ],
   "source": [
    "article = corpus.loc[idx, 'article']\n",
    "reference_summary = corpus.loc[idx, 'summary']\n",
    "hypothesis_summary = run_article_summary(article, \n",
    "                                         tokenizer = 'stem', \n",
    "                                         n_gram = '1-gram', \n",
    "                                         threshold_factor = 1.2)\n",
    "nice_print(article, reference_summary, hypothesis_summary)"
   ]
  },
  {
   "cell_type": "code",
   "execution_count": 12,
   "metadata": {
    "colab": {},
    "colab_type": "code",
    "id": "hZTw-GV81Iti"
   },
   "outputs": [],
   "source": [
    "idx2 = corpus.sample(1).index[0]"
   ]
  },
  {
   "cell_type": "code",
   "execution_count": 13,
   "metadata": {
    "colab": {
     "base_uri": "https://localhost:8080/",
     "height": 1007
    },
    "colab_type": "code",
    "executionInfo": {
     "elapsed": 395,
     "status": "ok",
     "timestamp": 1560966172535,
     "user": {
      "displayName": "Guilherme Lopasso",
      "photoUrl": "https://lh5.googleusercontent.com/-Q6wxH-XDx-4/AAAAAAAAAAI/AAAAAAAAHiU/tKZS3GXLKSI/s64/photo.jpg",
      "userId": "01495631926165908216"
     },
     "user_tz": 180
    },
    "id": "1B-51jpg1MEI",
    "outputId": "7e656092-fe47-4878-8d2a-51bc6cbfb692"
   },
   "outputs": [
    {
     "name": "stdout",
     "output_type": "stream",
     "text": [
      "ARTICLE\n",
      "Arrest warrants have been issued for two Americans accused of stealing adult and\n",
      "infant body parts from a museum inside a Thai hospital and trying to ship them\n",
      "to Las Vegas. But the two men have already left Thailand despite being\n",
      "interviewed by police. The Americans, Ryan Edward McPherson and Daniel Jamon\n",
      "Tanner, told police they wanted to surprise their friends back home, Royal Thai\n",
      "Police Deputy Commissioner Gen. Ruangsak Jritake said Monday. It's unclear\n",
      "whether McPherson or Tanner have attorneys. So far, they have not able to be\n",
      "reached for comment. A delivery company uncovered the macabre shipment. On\n",
      "Saturday, a DHL office in Thailand's Pathum Thani province called police after\n",
      "workers there were scanning shipments and discovered the body parts inside three\n",
      "packages. The packages contained five acrylic plastic boxes, Ruangsak said. One\n",
      "box contained an infant's head; another contained a baby's left foot, which was\n",
      "sliced into three pieces, the police official said. The other acrylic boxes\n",
      "contained an adult heart and adult skin. Flea market claim Over the weekend,\n",
      "police said they had talked to an American who was trying to send the parcels to\n",
      "the United States but couldn't bring any charges against him because they\n",
      "weren't sure what laws applied to the case. At the time, police said the\n",
      "American told them he found the infant body parts at a night flea market and\n",
      "that he had paid about $100 for them -- though he could not remember where the\n",
      "market was located. But on Monday, authorities revealed more details on the\n",
      "case. All the body parts were stolen from the Siriraj Medical Museum within\n",
      "Bangkok's Siriraj Hospital, the largest hospital in Thailand, Ruangsak said. The\n",
      "body parts were taken from the forensic medicine museum and anatomical museum.\n",
      "Police said closed-circuit video from the hospital showed two men identified as\n",
      "McPherson and Tanner. \"The two foreigners definitely visited our museum, but we\n",
      "cannot see from the CCTV camera that they stole those items,\" said Udom\n",
      "Kachintorn, dean of the hospital's faculty of medicine. \"It is evidence that\n",
      "confirms the two foreigners are linked to the missing items.\" Police said they\n",
      "were also investigating whether museum employees or other local people were\n",
      "involved in the theft. Arrest warrants issued A Thai criminal court approved\n",
      "arrest warrants for the two men on charges of theft from a government hospital,\n",
      "as well as breaching customs law, police said Tuesday. If convicted, McPherson\n",
      "and Tanner could face up to seven years in prison or a fine of up to 500,000\n",
      "Thai baht ($15,200). But the Americans have already left Thailand for Cambodia.\n",
      "Thai police said they would send the arrest warrants to the Bangkok office of\n",
      "Interpol, the international police agency, to try to trace the men. They also\n",
      "said they were in touch with Cambodian police directly and had asked the FBI,\n",
      "through the U.S. Embassy in Bangkok, to gather information on the packages'\n",
      "destinations. Officials at the U.S. embassies in Thailand and Cambodia said they\n",
      "were aware of reports about the case but couldn't comment, citing privacy\n",
      "concerns. Black market for body parts The bizarre discovery is not the first\n",
      "time infant remains have been found in Thailand. In 2010, more than 2,000\n",
      "illegally aborted fetuses were recovered at a Buddhist temple in Bangkok. Infant\n",
      "body parts can be bought on the Thai black market. Some Thais practice black\n",
      "magic and believe that supernatural power comes from infant body parts, if the\n",
      "rites are performed by monks or sorcerers. They believe that having the items\n",
      "provides protection and business success and can ward off bad luck. In 2010,\n",
      "police said the smell of decay led investigators to the Phai-nguern Chotinaram\n",
      "temple in central Bangkok, where they discovered more than 2,000 illegally\n",
      "aborted fetuses. Three people were arrested, including two morticians who were\n",
      "charged with hiding bodies. According to the hospital museum website, for 120\n",
      "years, \"Siriraj Hospital has collectively gathered an enormous compilation of\n",
      "medical equipments and tools, anatomical and clinical specimens including\n",
      "important artifacts and archives relating to the history of medicine in\n",
      "Thailand.\" \n",
      "\n",
      "REFERENCE SUMMARY\n",
      "If convicted, the two Americans could face 7 years in prison or be fined\n",
      "$15,200. The two suspects have left Thailand and are now in Cambodia. Thai\n",
      "police are contacting Interpol and Cambodian police to try to trace them.\n",
      "Officials: The body parts were stolen from a hospital; video shows the two\n",
      "Americans. \n",
      "\n",
      "HYPOTHESIS SUMMARY\n",
      "Arrest warrants have been issued for two Americans accused of stealing adult and\n",
      "infant body parts from a museum inside a Thai hospital and trying to ship them\n",
      "to Las Vegas. But the two men have already left Thailand despite being\n",
      "interviewed by police. At the time, police said the American told them he found\n",
      "the infant body parts at a night flea market and that he had paid about $100 for\n",
      "them -- though he could not remember where the market was located. All the body\n",
      "parts were stolen from the Siriraj Medical Museum within Bangkok's Siriraj\n",
      "Hospital, the largest hospital in Thailand, Ruangsak said. The body parts were\n",
      "taken from the forensic medicine museum and anatomical museum. Police said\n",
      "closed-circuit video from the hospital showed two men identified as McPherson\n",
      "and Tanner. Police said they were also investigating whether museum employees or\n",
      "other local people were involved in the theft. Thai police said they would send\n",
      "the arrest warrants to the Bangkok office of Interpol, the international police\n",
      "agency, to try to trace the men. Black market for body parts Infant body parts\n",
      "can be bought on the Thai black market. \n",
      "\n"
     ]
    }
   ],
   "source": [
    "article = corpus.loc[idx2, 'article']\n",
    "reference_summary = corpus.loc[idx2, 'summary']\n",
    "hypothesis_summary = run_article_summary(article, \n",
    "                                         tokenizer = 'stem', \n",
    "                                         n_gram = '1-gram', \n",
    "                                         threshold_factor = 1.2)\n",
    "nice_print(article, reference_summary, hypothesis_summary)"
   ]
  },
  {
   "cell_type": "code",
   "execution_count": 14,
   "metadata": {
    "colab": {
     "base_uri": "https://localhost:8080/",
     "height": 35
    },
    "colab_type": "code",
    "executionInfo": {
     "elapsed": 641,
     "status": "ok",
     "timestamp": 1560966196951,
     "user": {
      "displayName": "Guilherme Lopasso",
      "photoUrl": "https://lh5.googleusercontent.com/-Q6wxH-XDx-4/AAAAAAAAAAI/AAAAAAAAHiU/tKZS3GXLKSI/s64/photo.jpg",
      "userId": "01495631926165908216"
     },
     "user_tz": 180
    },
    "id": "SU94aI9M1dGf",
    "outputId": "f5f6328c-d550-48d7-cfca-ea053b08f89e"
   },
   "outputs": [
    {
     "name": "stdout",
     "output_type": "stream",
     "text": [
      "46928\n"
     ]
    }
   ],
   "source": [
    "print(idx2)"
   ]
  },
  {
   "cell_type": "markdown",
   "metadata": {
    "colab_type": "text",
    "id": "R9a7Ss5_XPMy"
   },
   "source": [
    "## 3. Prediction"
   ]
  },
  {
   "cell_type": "code",
   "execution_count": 16,
   "metadata": {
    "colab": {},
    "colab_type": "code",
    "id": "avHvc4n5vhhO"
   },
   "outputs": [],
   "source": [
    "def make_predictions(df, n_gram_lst, token_type_lst, threshold_factor_lst,\n",
    "                     n_predictions, interval_to_print):\n",
    "\n",
    "\n",
    "  t0 = time.time()\n",
    "  sampling_interval = len(df) // n_predictions\n",
    "  index = df.index[::sampling_interval][:n_predictions]\n",
    "  data = df.loc[index, 'summary']\n",
    "  predictions = pd.DataFrame( data = data.values , columns = ['reference'], index = index)\n",
    "  for n_gram in n_gram_lst:\n",
    "    for token_type in token_type_lst:\n",
    "      for threshold_factor in threshold_factor_lst:\n",
    "        predicted_column = n_gram + '_' + token_type + '_' + str(threshold_factor)\n",
    "        print('Prediction colum: {}'.format(predicted_column))\n",
    "        # function must be updated to include n_grams and token types  \n",
    "        predictions.loc[index, predicted_column] = df.loc[index, 'article'].apply(run_article_summary,\n",
    "                                                                            args =(token_type, \n",
    "                                                                                   n_gram, \n",
    "                                                                                   threshold_factor))\n",
    "        print('Time taken {:.2f} minutes'.format((time.time() - t0)/60))\n",
    "          \n",
    "    \n",
    "  print()\n",
    "  print('Total time to execute: {:.2f} minutes'.format((time.time() - t0)/60))\n",
    "  return predictions"
   ]
  },
  {
   "cell_type": "code",
   "execution_count": 17,
   "metadata": {
    "colab": {
     "base_uri": "https://localhost:8080/",
     "height": 1151
    },
    "colab_type": "code",
    "executionInfo": {
     "elapsed": 1226849,
     "status": "ok",
     "timestamp": 1560949473310,
     "user": {
      "displayName": "Guilherme Lopasso",
      "photoUrl": "https://lh5.googleusercontent.com/-Q6wxH-XDx-4/AAAAAAAAAAI/AAAAAAAAHiU/tKZS3GXLKSI/s64/photo.jpg",
      "userId": "01495631926165908216"
     },
     "user_tz": 180
    },
    "id": "XGR4TTwBvtbm",
    "outputId": "4b775056-2694-4a98-f386-2f07f8d03c23"
   },
   "outputs": [
    {
     "name": "stdout",
     "output_type": "stream",
     "text": [
      "Prediction colum: 1-gram_stem_1\n",
      "Time taken 3.27 minutes\n",
      "Prediction colum: 1-gram_stem_1.1\n",
      "Time taken 6.59 minutes\n",
      "Prediction colum: 1-gram_stem_1.2\n",
      "Time taken 9.81 minutes\n",
      "Prediction colum: 1-gram_stem_1.3\n",
      "Time taken 13.04 minutes\n",
      "Prediction colum: 1-gram_stem_1.4\n",
      "Time taken 16.25 minutes\n",
      "Prediction colum: 1-gram_lemma_1\n",
      "Time taken 18.06 minutes\n",
      "Prediction colum: 1-gram_lemma_1.1\n",
      "Time taken 19.67 minutes\n",
      "Prediction colum: 1-gram_lemma_1.2\n",
      "Time taken 21.25 minutes\n",
      "Prediction colum: 1-gram_lemma_1.3\n",
      "Time taken 22.84 minutes\n",
      "Prediction colum: 1-gram_lemma_1.4\n",
      "Time taken 24.46 minutes\n",
      "Prediction colum: 2-gram_stem_1\n",
      "Time taken 27.73 minutes\n",
      "Prediction colum: 2-gram_stem_1.1\n",
      "Time taken 30.77 minutes\n",
      "Prediction colum: 2-gram_stem_1.2\n",
      "Time taken 33.92 minutes\n",
      "Prediction colum: 2-gram_stem_1.3\n",
      "Time taken 37.02 minutes\n",
      "Prediction colum: 2-gram_stem_1.4\n",
      "Time taken 40.28 minutes\n",
      "Prediction colum: 2-gram_lemma_1\n",
      "Time taken 42.04 minutes\n",
      "Prediction colum: 2-gram_lemma_1.1\n",
      "Time taken 43.85 minutes\n",
      "Prediction colum: 2-gram_lemma_1.2\n",
      "Time taken 45.47 minutes\n",
      "Prediction colum: 2-gram_lemma_1.3\n",
      "Time taken 47.18 minutes\n",
      "Prediction colum: 2-gram_lemma_1.4\n",
      "Time taken 48.87 minutes\n",
      "Prediction colum: 3-gram_stem_1\n",
      "Time taken 52.09 minutes\n",
      "Prediction colum: 3-gram_stem_1.1\n",
      "Time taken 55.32 minutes\n",
      "Prediction colum: 3-gram_stem_1.2\n",
      "Time taken 58.41 minutes\n",
      "Prediction colum: 3-gram_stem_1.3\n",
      "Time taken 61.49 minutes\n",
      "Prediction colum: 3-gram_stem_1.4\n",
      "Time taken 64.58 minutes\n",
      "Prediction colum: 3-gram_lemma_1\n",
      "Time taken 66.18 minutes\n",
      "Prediction colum: 3-gram_lemma_1.1\n",
      "Time taken 67.77 minutes\n",
      "Prediction colum: 3-gram_lemma_1.2\n",
      "Time taken 69.46 minutes\n",
      "Prediction colum: 3-gram_lemma_1.3\n",
      "Time taken 71.21 minutes\n",
      "Prediction colum: 3-gram_lemma_1.4\n",
      "Time taken 72.87 minutes\n",
      "\n",
      "Total time to execute: 72.87 minutes\n"
     ]
    }
   ],
   "source": [
    "n_gram_lst = ['1-gram', '2-gram', '3-gram']\n",
    "token_type_lst = ['stem', 'lemma']\n",
    "threshold_factor_lst = [1, 1.1, 1.2, 1.3, 1.4]\n",
    "n_predictions = 1000\n",
    "interval_to_print = 500\n",
    "predictions_test = make_predictions(corpus, n_gram_lst, token_type_lst, threshold_factor_lst,\n",
    "                     n_predictions, interval_to_print)"
   ]
  },
  {
   "cell_type": "markdown",
   "metadata": {
    "colab_type": "text",
    "id": "HT99H0Gb7mc1"
   },
   "source": [
    "## 4. ROUGE"
   ]
  },
  {
   "cell_type": "code",
   "execution_count": 0,
   "metadata": {
    "colab": {
     "base_uri": "https://localhost:8080/",
     "height": 127
    },
    "colab_type": "code",
    "executionInfo": {
     "elapsed": 5956,
     "status": "ok",
     "timestamp": 1560949759573,
     "user": {
      "displayName": "Guilherme Lopasso",
      "photoUrl": "https://lh5.googleusercontent.com/-Q6wxH-XDx-4/AAAAAAAAAAI/AAAAAAAAHiU/tKZS3GXLKSI/s64/photo.jpg",
      "userId": "01495631926165908216"
     },
     "user_tz": 180
    },
    "id": "fxUHlIBQ8shl",
    "outputId": "c3e977b2-e2d7-438b-cabf-24afc7911a65"
   },
   "outputs": [
    {
     "name": "stdout",
     "output_type": "stream",
     "text": [
      "Collecting py-rouge\n",
      "\u001b[?25l  Downloading https://files.pythonhosted.org/packages/9c/1d/0bdbaf559fb7afe32308ebc84a2028600988212d7eb7fb9f69c4e829e4a0/py_rouge-1.1-py3-none-any.whl (56kB)\n",
      "\u001b[K     |████████████████████████████████| 61kB 2.4MB/s \n",
      "\u001b[?25hInstalling collected packages: py-rouge\n",
      "Successfully installed py-rouge-1.1\n"
     ]
    }
   ],
   "source": [
    "!pip install py-rouge"
   ]
  },
  {
   "cell_type": "markdown",
   "metadata": {
    "colab_type": "text",
    "id": "MywyCEI94yF9"
   },
   "source": [
    "### Rouge Metric\n",
    "**Hypothesis:** the summary produced by the machine learning algorithm\n",
    "\n",
    "**Reference:**  the summary produced by human, considered the golden standard\n",
    "\n",
    "#### Metrics in Rouge\n",
    "\n",
    "**Recall:**       $R = \\frac{number \\, of \\, overlapping \\, words}{total \\, words \\,  in \\,  reference  \\, summary}$\n",
    "\n",
    "**Precision:**        $P = \\frac{number\\, of \\, overlapping \\, words}{total \\, words\\,  in \\, hypothesis summary}$\n",
    "\n",
    "**F1 score:**        $F1 = \\frac{P*R}{ (1 - \\alpha)*P\\,  +\\,  \\alpha*R}$\n"
   ]
  },
  {
   "cell_type": "code",
   "execution_count": 0,
   "metadata": {
    "colab": {
     "base_uri": "https://localhost:8080/",
     "height": 35
    },
    "colab_type": "code",
    "executionInfo": {
     "elapsed": 500,
     "status": "ok",
     "timestamp": 1560949763759,
     "user": {
      "displayName": "Guilherme Lopasso",
      "photoUrl": "https://lh5.googleusercontent.com/-Q6wxH-XDx-4/AAAAAAAAAAI/AAAAAAAAHiU/tKZS3GXLKSI/s64/photo.jpg",
      "userId": "01495631926165908216"
     },
     "user_tz": 180
    },
    "id": "icSX_ZT27kkK",
    "outputId": "03d635d4-061c-4480-ac21-8133b13af8eb"
   },
   "outputs": [
    {
     "name": "stdout",
     "output_type": "stream",
     "text": [
      "{'rouge-1': {'f': 0.923076923076923, 'p': 0.8571428571428571, 'r': 1.0}}\n"
     ]
    }
   ],
   "source": [
    "# test rouge with very simple example\n",
    "import rouge\n",
    "\n",
    "evaluator = rouge.Rouge(metrics = ['rouge-n'],\n",
    "                           max_n = 1,\n",
    "                           limit_length = True,\n",
    "                           length_limit = 100,\n",
    "                           length_limit_type = 'words',\n",
    "                           alpha = 0.5, # Default F1_score\n",
    "                           stemming=True)\n",
    "\n",
    "hypothesis = 'the cat was found under the bed' \n",
    "reference = 'the cat was under the bed'\n",
    "\n",
    "scores = evaluator.get_scores(hypothesis, reference)\n",
    "print(scores) \n",
    "# Expected Recall = 1/1 = 1.0 Precision = 6/7 = 0.8571 and F1 = 0.8571/(0.5*0.8571 + 0.5) = 0.9231"
   ]
  },
  {
   "cell_type": "code",
   "execution_count": 0,
   "metadata": {
    "colab": {},
    "colab_type": "code",
    "id": "Y7AgVNg66po2"
   },
   "outputs": [],
   "source": [
    "def rouge_scoring(hypothesis, reference, max_n = 1, alpha = 0.5, score = 'F1'):\n",
    "      \n",
    "      evaluator = rouge.Rouge(metrics = ['rouge-n'],\n",
    "                           max_n = max_n,\n",
    "                           limit_length = False,\n",
    "                           alpha = alpha, # Default F1_score\n",
    "                           stemming = True)\n",
    "      if score == 'F1':\n",
    "          score_entry = 'f'\n",
    "      elif score == 'Precision':\n",
    "          score_entry = 'p'\n",
    "      else:\n",
    "          score == 'Recall'\n",
    "          score_entry = 'r'\n",
    "  \n",
    "      rouge_score = evaluator.get_scores(hypothesis, reference)['rouge-' + str(max_n)][score_entry]\n",
    "\n",
    "      return rouge_score"
   ]
  },
  {
   "cell_type": "code",
   "execution_count": 0,
   "metadata": {
    "colab": {
     "base_uri": "https://localhost:8080/",
     "height": 35
    },
    "colab_type": "code",
    "executionInfo": {
     "elapsed": 515,
     "status": "ok",
     "timestamp": 1560977359770,
     "user": {
      "displayName": "Guilherme Lopasso",
      "photoUrl": "https://lh5.googleusercontent.com/-Q6wxH-XDx-4/AAAAAAAAAAI/AAAAAAAAHiU/tKZS3GXLKSI/s64/photo.jpg",
      "userId": "01495631926165908216"
     },
     "user_tz": 180
    },
    "id": "UF-YfJDa7odR",
    "outputId": "1187587c-bb8c-4945-cfad-335eaaddb2ed"
   },
   "outputs": [
    {
     "name": "stdout",
     "output_type": "stream",
     "text": [
      "[0.30952380952380953, 0.3333333333333333]\n"
     ]
    }
   ],
   "source": [
    "idxs = [83838, 33433]\n",
    "scores = list()\n",
    "for idx in idxs:\n",
    "  reference = corpus.loc[idx, 'summary']\n",
    "  article = corpus.loc[idx, 'article']\n",
    "  hypothesis = run_article_summary(article, \n",
    "                                   tokenizer = 'stem', \n",
    "                                   n_gram = '1-gram', \n",
    "                                   threshold_factor = 1.2)\n",
    "  \n",
    "  rouge_score = rouge_scoring(hypothesis, reference, \n",
    "                           max_n = 2, \n",
    "                           alpha = 0.7, \n",
    "                           score = 'Recall')\n",
    "  scores.append(rouge_score)\n",
    "print(scores)\n",
    "  "
   ]
  },
  {
   "cell_type": "code",
   "execution_count": 0,
   "metadata": {
    "colab": {
     "base_uri": "https://localhost:8080/",
     "height": 71
    },
    "colab_type": "code",
    "executionInfo": {
     "elapsed": 539,
     "status": "ok",
     "timestamp": 1560968503463,
     "user": {
      "displayName": "Guilherme Lopasso",
      "photoUrl": "https://lh5.googleusercontent.com/-Q6wxH-XDx-4/AAAAAAAAAAI/AAAAAAAAHiU/tKZS3GXLKSI/s64/photo.jpg",
      "userId": "01495631926165908216"
     },
     "user_tz": 180
    },
    "id": "uf1089Yg-FsI",
    "outputId": "3b2a1d59-12ca-4aec-b297-04d5888a7984"
   },
   "outputs": [
    {
     "data": {
      "text/plain": [
       "{'rouge-1': {'f': 0.42857142857142855,\n",
       "  'p': 0.34782608695652173,\n",
       "  'r': 0.5581395348837209}}"
      ]
     },
     "execution_count": 89,
     "metadata": {
      "tags": []
     },
     "output_type": "execute_result"
    }
   ],
   "source": [
    "rouge_score"
   ]
  },
  {
   "cell_type": "code",
   "execution_count": 0,
   "metadata": {
    "colab": {},
    "colab_type": "code",
    "id": "2VNbzN5wyuqE"
   },
   "outputs": [],
   "source": [
    "def calculate_rouge(df, max_n = 1, alpha = 0.5, score = 'F1'):\n",
    "  '''Calculates the rouge score metric defined in score\n",
    "     \n",
    "     Parameters:\n",
    "     df: pandas dataframe with first column with the reference summary, and columns with hypothesis summaries\n",
    "     max_n (int): N-grams for ROUGE-N if specify. Default:1\n",
    "     alpha (float): used to compute f1 score: P*R/((1-a)*P + a*R). Default:0.5\n",
    "     score (str): 'Recall', 'Precision', or 'F1'\n",
    "     \n",
    "     Returns:\n",
    "     scores_df: dataframe with new columns with the calculated metric score for each hypothesis summary\n",
    "  '''\n",
    "  t0 = time.time()\n",
    "  evaluator = rouge.Rouge(metrics = ['rouge-n'],\n",
    "                           max_n = max_n,\n",
    "                           limit_length = False,\n",
    "                           alpha = alpha, # Default F1_score\n",
    "                           stemming = True)\n",
    "  if score == 'F1':\n",
    "    score_entry = 'f'\n",
    "  elif score == 'Precision':\n",
    "    score_entry = 'p'\n",
    "  else:\n",
    "    score == 'Recall'\n",
    "    score_entry = 'r'\n",
    "  scores_df = pd.DataFrame()\n",
    "  for column in df.columns[1:]:\n",
    "    score_column = column + '_' + score\n",
    "    for idx in df.index:\n",
    "      hypothesis = df.loc[idx, column]\n",
    "      reference = df.loc[idx, 'reference']\n",
    "      rouge_scores = evaluator.get_scores(hypothesis, reference)\n",
    "      scores_df.loc[idx, score_column] = rouge_scores['rouge-' + str(max_n)][score_entry]\n",
    "\n",
    "  print('Total time to execute: {:.2f} minutes'.format((time.time() - t0)/60))\n",
    "  return scores_df"
   ]
  },
  {
   "cell_type": "code",
   "execution_count": 0,
   "metadata": {
    "colab": {
     "base_uri": "https://localhost:8080/",
     "height": 35
    },
    "colab_type": "code",
    "executionInfo": {
     "elapsed": 121996,
     "status": "ok",
     "timestamp": 1560949890039,
     "user": {
      "displayName": "Guilherme Lopasso",
      "photoUrl": "https://lh5.googleusercontent.com/-Q6wxH-XDx-4/AAAAAAAAAAI/AAAAAAAAHiU/tKZS3GXLKSI/s64/photo.jpg",
      "userId": "01495631926165908216"
     },
     "user_tz": 180
    },
    "id": "r_JxcYGKzVSF",
    "outputId": "6f394144-06dc-454c-a577-bc2c1ff394fa"
   },
   "outputs": [
    {
     "name": "stdout",
     "output_type": "stream",
     "text": [
      "Total time to execute: 2.02 minutes\n"
     ]
    }
   ],
   "source": [
    "# Calculate for predictions predictons_test dataframe, which has only one hypothesis summary with 1-gram, using stemming, and\n",
    "# threshold factor = 1\n",
    "max_n = 1\n",
    "alpha = 0.5 # Default F1_score\n",
    "score = 'F1'\n",
    "predictions_scores = calculate_rouge(predictions_test, max_n, alpha, score)"
   ]
  },
  {
   "cell_type": "code",
   "execution_count": 0,
   "metadata": {
    "colab": {
     "base_uri": "https://localhost:8080/",
     "height": 458
    },
    "colab_type": "code",
    "executionInfo": {
     "elapsed": 904,
     "status": "ok",
     "timestamp": 1560950037862,
     "user": {
      "displayName": "Guilherme Lopasso",
      "photoUrl": "https://lh5.googleusercontent.com/-Q6wxH-XDx-4/AAAAAAAAAAI/AAAAAAAAHiU/tKZS3GXLKSI/s64/photo.jpg",
      "userId": "01495631926165908216"
     },
     "user_tz": 180
    },
    "id": "QbZA5HMy7lKF",
    "outputId": "8d3df215-565b-4be2-f016-f3d1162a3d04"
   },
   "outputs": [
    {
     "name": "stdout",
     "output_type": "stream",
     "text": [
      "F1 average = 0.2066\n",
      "F1 standard deviation = 0.0930\n"
     ]
    },
    {
     "data": {
      "text/plain": [
       "Text(0.5, 1.0, 'F1 score')"
      ]
     },
     "execution_count": 23,
     "metadata": {
      "tags": []
     },
     "output_type": "execute_result"
    },
    {
     "data": {
      "image/png": "[encoded data removed]",
      "text/plain": [
       "<Figure size 864x432 with 1 Axes>"
      ]
     },
     "metadata": {
      "tags": []
     },
     "output_type": "display_data"
    }
   ],
   "source": [
    "# Calculate the average and standard deviation of F1 scores for 1,000 summaries in predicions_test\n",
    "# and plot the distribution of the F1-scores\n",
    "score_column = '2-gram_stem_1_F1'\n",
    "print('F1 average = {:.4f}'.format(predictions_scores[score_column].mean()))\n",
    "print('F1 standard deviation = {:.4f}'.format(predictions_scores[score_column].std()))\n",
    "_, ax = plt.subplots(figsize = (12,6))\n",
    "sns.distplot(predictions_scores[score_column], ax = ax, bins = 25, hist_kws={'alpha':0.5}, label = score_column)\n",
    "ax.set_xlabel('ROUGE metric')\n",
    "ax.set_title('F1 score')"
   ]
  },
  {
   "cell_type": "markdown",
   "metadata": {
    "colab_type": "text",
    "id": "SgsOsMvwA64K"
   },
   "source": [
    "## 5. Performance comparison with different parameters"
   ]
  },
  {
   "cell_type": "code",
   "execution_count": 0,
   "metadata": {
    "colab": {},
    "colab_type": "code",
    "id": "Pz1-0evSWabh"
   },
   "outputs": [],
   "source": [
    "def score_statistics(df):\n",
    "  \"\"\"print a prettytable of statistics for the rouge scores of summaries \n",
    "     \n",
    "     Parameters:\n",
    "     df: pandas dataframe with ROUGE scores, each columns with a different set of parameters\n",
    "          \n",
    "     Returns:\n",
    "     printed table with the prediction type and the corresponding ROUGE score statistics\n",
    "     (mean, standard deviation and % of zeros), mean and standard deviation are normalized \n",
    "     to base 100, i.e. are multiplied by 100\n",
    "  \n",
    "  \"\"\"\n",
    "  n_grams = list()\n",
    "  token_types = list()\n",
    "  thresholds = list()\n",
    "  metrics = list()\n",
    "  for column in df.columns:\n",
    "    params = column.split('_')\n",
    "    if params[0] not in n_grams:\n",
    "        n_grams.append(params[0])\n",
    "    if params[1] not in token_types:\n",
    "        token_types.append(params[1])\n",
    "    if params[2] not in thresholds:\n",
    "        thresholds.append(params[2])\n",
    "    if params[3] not in metrics:\n",
    "        metrics.append(params[3])\n",
    "    \n",
    "  index =pd.MultiIndex.from_product([n_grams, token_types])\n",
    "  statistic_names = ['Mean', 'Standard Deviation', '% of zeros']\n",
    "  columns = pd.MultiIndex.from_product([statistic_names, thresholds])\n",
    "  scores_statistics_df = pd.DataFrame(index = index, columns = columns)\n",
    "  \n",
    "  for score_column in df.columns:\n",
    "    params = score_column.split('_')\n",
    "    score_mean = round(df[score_column].mean()*100, 1)\n",
    "    score_std = round(df[score_column].std()*100, 1)\n",
    "    score_zeros = str(round((df.loc[df[score_column] == 0,\n",
    "                                   score_column]\n",
    "                             .count() / len(df))*100, 1)) +' %'\n",
    "    scores_statistics_df.loc[(params[0], params[1]), ('Mean', params[2])] = score_mean\n",
    "    scores_statistics_df.loc[(params[0], params[1]), ('Standard Deviation', params[2])] = score_std\n",
    "    scores_statistics_df.loc[(params[0], params[1]), ('% of zeros', params[2])] = score_zeros\n",
    "\n",
    "  return scores_statistics_df"
   ]
  },
  {
   "cell_type": "code",
   "execution_count": 0,
   "metadata": {
    "colab": {},
    "colab_type": "code",
    "id": "EidUWyVI3595"
   },
   "outputs": [],
   "source": [
    "def score_distributions(df, columns, bins = 10, ylim = (0,1)):\n",
    "    \"\"\"plot histogram and density curve of variables in columns in a datframe\n",
    "     \n",
    "     Parameters:\n",
    "     df: pandas dataframe variables to plot\n",
    "     columns: the specific columns to pot\n",
    "     ylim: the range of tick values in the y-axis          \n",
    "     Returns:\n",
    "     plots of histogram and density curves\n",
    "  \n",
    "  \"\"\"\n",
    "    sns.set(color_codes=True)\n",
    "    _, ax = plt.subplots(figsize = (12,6))\n",
    "    for column in columns:\n",
    "      sns.distplot(df[column], ax = ax, bins = bins, hist_kws={'alpha':0.5}, label = column)\n",
    "    ax.set_xlabel('ROUGE metric')\n",
    "    ax.set_ylim(ylim)\n",
    "    ax.legend()"
   ]
  },
  {
   "cell_type": "code",
   "execution_count": 0,
   "metadata": {
    "colab": {
     "base_uri": "https://localhost:8080/",
     "height": 266
    },
    "colab_type": "code",
    "executionInfo": {
     "elapsed": 511,
     "status": "ok",
     "timestamp": 1560950934166,
     "user": {
      "displayName": "Guilherme Lopasso",
      "photoUrl": "https://lh5.googleusercontent.com/-Q6wxH-XDx-4/AAAAAAAAAAI/AAAAAAAAHiU/tKZS3GXLKSI/s64/photo.jpg",
      "userId": "01495631926165908216"
     },
     "user_tz": 180
    },
    "id": "pyOQtWbbtUBQ",
    "outputId": "3b8553a8-7706-4157-b019-83ff38e728e2",
    "scrolled": true
   },
   "outputs": [
    {
     "data": {
      "text/html": [
       "<div>\n",
       "<style scoped>\n",
       "    .dataframe tbody tr th:only-of-type {\n",
       "        vertical-align: middle;\n",
       "    }\n",
       "\n",
       "    .dataframe tbody tr th {\n",
       "        vertical-align: top;\n",
       "    }\n",
       "\n",
       "    .dataframe thead tr th {\n",
       "        text-align: left;\n",
       "    }\n",
       "</style>\n",
       "<table border=\"1\" class=\"dataframe\">\n",
       "  <thead>\n",
       "    <tr>\n",
       "      <th></th>\n",
       "      <th></th>\n",
       "      <th colspan=\"5\" halign=\"left\">Mean</th>\n",
       "      <th colspan=\"5\" halign=\"left\">Standard Deviation</th>\n",
       "      <th colspan=\"5\" halign=\"left\">% of zeros</th>\n",
       "    </tr>\n",
       "    <tr>\n",
       "      <th></th>\n",
       "      <th></th>\n",
       "      <th>1</th>\n",
       "      <th>1.1</th>\n",
       "      <th>1.2</th>\n",
       "      <th>1.3</th>\n",
       "      <th>1.4</th>\n",
       "      <th>1</th>\n",
       "      <th>1.1</th>\n",
       "      <th>1.2</th>\n",
       "      <th>1.3</th>\n",
       "      <th>1.4</th>\n",
       "      <th>1</th>\n",
       "      <th>1.1</th>\n",
       "      <th>1.2</th>\n",
       "      <th>1.3</th>\n",
       "      <th>1.4</th>\n",
       "    </tr>\n",
       "  </thead>\n",
       "  <tbody>\n",
       "    <tr>\n",
       "      <th rowspan=\"2\" valign=\"top\">1-gram</th>\n",
       "      <th>stem</th>\n",
       "      <td>20.2</td>\n",
       "      <td>22.6</td>\n",
       "      <td>23.7</td>\n",
       "      <td>23.2</td>\n",
       "      <td>21</td>\n",
       "      <td>9.3</td>\n",
       "      <td>10.1</td>\n",
       "      <td>10.4</td>\n",
       "      <td>11.5</td>\n",
       "      <td>12.6</td>\n",
       "      <td>0.0 %</td>\n",
       "      <td>0.4 %</td>\n",
       "      <td>2.0 %</td>\n",
       "      <td>6.2 %</td>\n",
       "      <td>12.9 %</td>\n",
       "    </tr>\n",
       "    <tr>\n",
       "      <th>lemma</th>\n",
       "      <td>20.3</td>\n",
       "      <td>22.6</td>\n",
       "      <td>23.3</td>\n",
       "      <td>23</td>\n",
       "      <td>21.2</td>\n",
       "      <td>9.1</td>\n",
       "      <td>10.2</td>\n",
       "      <td>10.4</td>\n",
       "      <td>11.3</td>\n",
       "      <td>12.3</td>\n",
       "      <td>0.0 %</td>\n",
       "      <td>0.4 %</td>\n",
       "      <td>2.6 %</td>\n",
       "      <td>5.9 %</td>\n",
       "      <td>11.9 %</td>\n",
       "    </tr>\n",
       "    <tr>\n",
       "      <th rowspan=\"2\" valign=\"top\">2-gram</th>\n",
       "      <th>stem</th>\n",
       "      <td>20.7</td>\n",
       "      <td>23.2</td>\n",
       "      <td>23.3</td>\n",
       "      <td>21.5</td>\n",
       "      <td>18</td>\n",
       "      <td>9.3</td>\n",
       "      <td>10.2</td>\n",
       "      <td>11.1</td>\n",
       "      <td>12.4</td>\n",
       "      <td>13.3</td>\n",
       "      <td>0.1 %</td>\n",
       "      <td>0.9 %</td>\n",
       "      <td>4.6 %</td>\n",
       "      <td>11.3 %</td>\n",
       "      <td>22.3 %</td>\n",
       "    </tr>\n",
       "    <tr>\n",
       "      <th>lemma</th>\n",
       "      <td>20.7</td>\n",
       "      <td>23</td>\n",
       "      <td>23.3</td>\n",
       "      <td>21.5</td>\n",
       "      <td>18.5</td>\n",
       "      <td>9.2</td>\n",
       "      <td>10.3</td>\n",
       "      <td>11.2</td>\n",
       "      <td>12.2</td>\n",
       "      <td>13.2</td>\n",
       "      <td>0.1 %</td>\n",
       "      <td>1.1 %</td>\n",
       "      <td>4.5 %</td>\n",
       "      <td>11.0 %</td>\n",
       "      <td>20.5 %</td>\n",
       "    </tr>\n",
       "    <tr>\n",
       "      <th rowspan=\"2\" valign=\"top\">3-gram</th>\n",
       "      <th>stem</th>\n",
       "      <td>21.1</td>\n",
       "      <td>23.5</td>\n",
       "      <td>22.6</td>\n",
       "      <td>19.5</td>\n",
       "      <td>15.5</td>\n",
       "      <td>9.3</td>\n",
       "      <td>10.3</td>\n",
       "      <td>11.6</td>\n",
       "      <td>13</td>\n",
       "      <td>12.9</td>\n",
       "      <td>0.1 %</td>\n",
       "      <td>1.5 %</td>\n",
       "      <td>7.3 %</td>\n",
       "      <td>16.2 %</td>\n",
       "      <td>27.1 %</td>\n",
       "    </tr>\n",
       "    <tr>\n",
       "      <th>lemma</th>\n",
       "      <td>21.3</td>\n",
       "      <td>23.2</td>\n",
       "      <td>22.4</td>\n",
       "      <td>19.5</td>\n",
       "      <td>15.9</td>\n",
       "      <td>9.4</td>\n",
       "      <td>10.4</td>\n",
       "      <td>11.6</td>\n",
       "      <td>12.7</td>\n",
       "      <td>13</td>\n",
       "      <td>0.1 %</td>\n",
       "      <td>1.9 %</td>\n",
       "      <td>7.4 %</td>\n",
       "      <td>16.0 %</td>\n",
       "      <td>26.1 %</td>\n",
       "    </tr>\n",
       "  </tbody>\n",
       "</table>\n",
       "</div>"
      ],
      "text/plain": [
       "              Mean                    ... % of zeros                       \n",
       "                 1   1.1   1.2   1.3  ...        1.1    1.2     1.3     1.4\n",
       "1-gram stem   20.2  22.6  23.7  23.2  ...      0.4 %  2.0 %   6.2 %  12.9 %\n",
       "       lemma  20.3  22.6  23.3    23  ...      0.4 %  2.6 %   5.9 %  11.9 %\n",
       "2-gram stem   20.7  23.2  23.3  21.5  ...      0.9 %  4.6 %  11.3 %  22.3 %\n",
       "       lemma  20.7    23  23.3  21.5  ...      1.1 %  4.5 %  11.0 %  20.5 %\n",
       "3-gram stem   21.1  23.5  22.6  19.5  ...      1.5 %  7.3 %  16.2 %  27.1 %\n",
       "       lemma  21.3  23.2  22.4  19.5  ...      1.9 %  7.4 %  16.0 %  26.1 %\n",
       "\n",
       "[6 rows x 15 columns]"
      ]
     },
     "execution_count": 27,
     "metadata": {
      "tags": []
     },
     "output_type": "execute_result"
    }
   ],
   "source": [
    "score_statistics(predictions_scores)"
   ]
  },
  {
   "cell_type": "markdown",
   "metadata": {
    "colab_type": "text",
    "id": "7_rew82SHzCO"
   },
   "source": [
    "We concluded that:\n",
    "- low threshold, near 1.0, produces low scores\n",
    "- if we increase the scores the proportion of zero summaries (summaries where no sentences were selected) increases, reducing the overall mean\n",
    "- the maximum F1 score is at 23.7, when we using 1.2 as threshold, stems and unigrams"
   ]
  },
  {
   "cell_type": "markdown",
   "metadata": {
    "colab_type": "text",
    "id": "ww3d7ds0Inmw"
   },
   "source": [
    "### Benchmarks of acadamic studies using the CNN dataset\n",
    "\n",
    "Study | Date | Authors | F1 score \n",
    " --- | --- | --- | --- \n",
    " Abstractive Text Summarization using Sequence-to-sequence RNNs and Beyond | Aug/2016 | Ramesh Nallapati | 35.5\n",
    " Get To The Point: Summarization with Pointer-Generator Networks | Apr/2017 | Abigail See | 39 -40\n",
    " A Hierarchical Structured Self-Attentive Model for Extractive Document Summarization (HSSAS) | Apr/2018 | Kamal Al-Sabahi | 42\n",
    " Fine-tune BERT for Extractive Summarization | Mar/2019 | Yang Liu | 43\n",
    "\n",
    "Our current results with the prototype are far away from the best in class models"
   ]
  },
  {
   "cell_type": "code",
   "execution_count": 0,
   "metadata": {
    "colab": {
     "base_uri": "https://localhost:8080/",
     "height": 400
    },
    "colab_type": "code",
    "executionInfo": {
     "elapsed": 1079,
     "status": "ok",
     "timestamp": 1560950965240,
     "user": {
      "displayName": "Guilherme Lopasso",
      "photoUrl": "https://lh5.googleusercontent.com/-Q6wxH-XDx-4/AAAAAAAAAAI/AAAAAAAAHiU/tKZS3GXLKSI/s64/photo.jpg",
      "userId": "01495631926165908216"
     },
     "user_tz": 180
    },
    "id": "zvKOiLQV8GPb",
    "outputId": "3392fa58-fe1d-4e30-a155-871dc11e408f"
   },
   "outputs": [
    {
     "data": {
      "image/png": "[encoded data removed]",
      "text/plain": [
       "<Figure size 864x432 with 1 Axes>"
      ]
     },
     "metadata": {
      "tags": []
     },
     "output_type": "display_data"
    }
   ],
   "source": [
    "columns = ['1-gram_stem_1.2_F1','1-gram_stem_1.4_F1']\n",
    "bins = 50\n",
    "ylim = (0, 8)\n",
    "score_distributions(predictions_scores, columns, bins, ylim )"
   ]
  },
  {
   "cell_type": "code",
   "execution_count": 0,
   "metadata": {
    "colab": {},
    "colab_type": "code",
    "id": "Wq-faPHG8J8U"
   },
   "outputs": [],
   "source": [
    "def len_sent_tokenize(text):\n",
    "  return len(sentence_tokenize(text))"
   ]
  },
  {
   "cell_type": "code",
   "execution_count": 0,
   "metadata": {
    "colab": {},
    "colab_type": "code",
    "id": "Zku5mBvwL5RJ"
   },
   "outputs": [],
   "source": [
    "# analysis of rouge scores per number of sentences in the hypothesis summary\n",
    "qty_of_sentences = predictions_test['1-gram_stem_1.2'].apply(len_sent_tokenize)"
   ]
  },
  {
   "cell_type": "code",
   "execution_count": 0,
   "metadata": {
    "colab": {
     "base_uri": "https://localhost:8080/",
     "height": 292
    },
    "colab_type": "code",
    "executionInfo": {
     "elapsed": 880,
     "status": "ok",
     "timestamp": 1560951191111,
     "user": {
      "displayName": "Guilherme Lopasso",
      "photoUrl": "https://lh5.googleusercontent.com/-Q6wxH-XDx-4/AAAAAAAAAAI/AAAAAAAAHiU/tKZS3GXLKSI/s64/photo.jpg",
      "userId": "01495631926165908216"
     },
     "user_tz": 180
    },
    "id": "Rk0-y1swsqUH",
    "outputId": "131e34f4-6ea9-4cd9-96f1-df79027a31f2"
   },
   "outputs": [
    {
     "data": {
      "text/plain": [
       "<matplotlib.axes._subplots.AxesSubplot at 0x7f89f228b0b8>"
      ]
     },
     "execution_count": 34,
     "metadata": {
      "tags": []
     },
     "output_type": "execute_result"
    },
    {
     "data": {
      "image/png": "[encoded data removed]",
      "text/plain": [
       "<Figure size 432x288 with 1 Axes>"
      ]
     },
     "metadata": {
      "tags": []
     },
     "output_type": "display_data"
    }
   ],
   "source": [
    "sns.scatterplot(x = qty_of_sentences.values, \n",
    "            y = predictions_scores['1-gram_stem_1.2_F1'].values,\n",
    "            alpha =0.5, s = 12)"
   ]
  },
  {
   "cell_type": "code",
   "execution_count": 0,
   "metadata": {
    "colab": {
     "base_uri": "https://localhost:8080/",
     "height": 291
    },
    "colab_type": "code",
    "executionInfo": {
     "elapsed": 1119,
     "status": "ok",
     "timestamp": 1560951193674,
     "user": {
      "displayName": "Guilherme Lopasso",
      "photoUrl": "https://lh5.googleusercontent.com/-Q6wxH-XDx-4/AAAAAAAAAAI/AAAAAAAAHiU/tKZS3GXLKSI/s64/photo.jpg",
      "userId": "01495631926165908216"
     },
     "user_tz": 180
    },
    "id": "mwj8Cn39mxsO",
    "outputId": "6e511e69-8143-4584-a87f-c46e13b1b498"
   },
   "outputs": [
    {
     "data": {
      "image/png": "[encoded data removed]",
      "text/plain": [
       "<Figure size 432x288 with 1 Axes>"
      ]
     },
     "metadata": {
      "tags": []
     },
     "output_type": "display_data"
    }
   ],
   "source": [
    "# analysis of rouge scores per  the difference of number of sentences in the hypothesis summary\n",
    "# and number of sentenes in the reference summary\n",
    "# let's zoom the plot around zero\n",
    "\n",
    "qty_of_sentences_reference = predictions_test['reference'].apply(len_sent_tokenize)\n",
    "diff_number_of_sentences = qty_of_sentences - qty_of_sentences_reference\n",
    "sns.scatterplot(x = diff_number_of_sentences, \n",
    "            y = predictions_scores['1-gram_stem_1.2_F1'].values,\n",
    "            alpha =0.5, s = 12)\n",
    "plt.xlabel('Difference of number of sentences between hypothesis and reference')\n",
    "plt.xlim((-10,+10))\n",
    "plt.show()\n"
   ]
  },
  {
   "cell_type": "markdown",
   "metadata": {
    "colab_type": "text",
    "id": "qURtRbMcrg6P"
   },
   "source": [
    "The generated summaries are usually longer than the reference summary, and the higher the difference of length, the lower the ROUGE score.\n",
    "Maybe our prototype model should try to predict the correct number of sentences in the generated summary."
   ]
  },
  {
   "cell_type": "code",
   "execution_count": 0,
   "metadata": {
    "colab": {
     "base_uri": "https://localhost:8080/",
     "height": 3275
    },
    "colab_type": "code",
    "executionInfo": {
     "elapsed": 739,
     "status": "ok",
     "timestamp": 1560951205362,
     "user": {
      "displayName": "Guilherme Lopasso",
      "photoUrl": "https://lh5.googleusercontent.com/-Q6wxH-XDx-4/AAAAAAAAAAI/AAAAAAAAHiU/tKZS3GXLKSI/s64/photo.jpg",
      "userId": "01495631926165908216"
     },
     "user_tz": 180
    },
    "id": "NM8aUM1AcyIV",
    "outputId": "acf03d23-29bd-4bed-ff90-e45d8892cc63"
   },
   "outputs": [
    {
     "name": "stdout",
     "output_type": "stream",
     "text": [
      "ARTICLE\n",
      "Some are girlish 22-year-olds; others are women approaching 40. They come from\n",
      "South Carolina's rural counties and its booming cities. They are loud and muted,\n",
      "lively and vacant, hopeful and desperate. As different as they are, they share a\n",
      "connection to two powerful forces : their addictions and their babies. They are\n",
      "swallowed by the same shameful past. They don't know if they can be good\n",
      "mothers. They don't know if they can be clean mothers. They're here at a state-\n",
      "run drug-treatment program to learn how to do both. On this summer day, Ashley\n",
      "Hendrix, 24, is eight months pregnant with her first child and one of 16 women\n",
      "at the Phoenix Center's Serenity Place. This is her last shot to get clean -- or\n",
      "face jail. South Carolina's state supreme court is alone in upholding the\n",
      "prosecution of pregnant women for the damage drugs might do to their unborn\n",
      "children. Across the country, local and state agencies have found ways to\n",
      "prosecute pregnant women for drug use, but the cases are often rejected by the\n",
      "courts. And judges in more than two dozen states have overturned decisions that\n",
      "criminalize pregnant addicts. In recent years, Missouri and North Dakota have\n",
      "ruled against charging pregnant women with neglect and endangerment. Illegal\n",
      "substances -- marijuana, methamphetamine, cocaine and prescription drugs --\n",
      "consumed Hendrix for more than a decade. \"To this day, I still cry about it, \"\n",
      "she said, \"that if anything does come out wrong with my baby, I know that my\n",
      "drug use is the reason why. Since 1989, at least 126 women in South Carolina\n",
      "have been arrested during their pregnancies, according to the National Advocates\n",
      "for Pregnant Women. Most were charged with drug and alcohol use that posed harm\n",
      "to the fetus the woman was carrying. During the same period, only about 80\n",
      "pregnant women were arrested on similar charges in all other states combined.\n",
      "\"Word on the street\" in South Carolina, says Stephen Donaldson, program manager\n",
      "of a drug-treatment facility in Charleston County, \"is if you use during\n",
      "pregnancy, you're being prosecuted or you're losing your baby.\" Over the last 15\n",
      "years, that message has driven many women to Serenity Place, a residential\n",
      "treatment center designed for pregnant women and new mothers. Here, the ultimate\n",
      "goal is to help the women recover from their addiction but Serenity also strives\n",
      "to give the women the confidence to become better mothers. They want the women\n",
      "to know there are second chances, and there is hope. \"I'm grateful everyday for\n",
      "being here and I'm grateful to have my baby with me,\" says a freckled Kim Clark,\n",
      "28, who gave birth to her son Jaelyn at the center. \"I've been using drugs since\n",
      "I was 11 years old. I didn't know any other life. And I've learned a lot about\n",
      "myself. I've been taught things here.\" She graduated in August, has her own\n",
      "apartment now and works to support herself and her son. Some women arrive here\n",
      "voluntarily. Others were sent by the state's Department of Social Services.\n",
      "Others made a plea bargain with the courts, allowing them one last chance at\n",
      "treatment to avoid prison. \"My biggest fear was the [health of the] baby, but\n",
      "right behind that was that 'I'm going to go to jail',\" says Sandria Doremus, one\n",
      "of Hendrix' classmates at Serenity. Afraid of being turned in for her opiate\n",
      "addiction, she delayed getting prenatal care. \"I should have gone in a lot\n",
      "sooner,\" she admits. Doremus, 37, arrived at Serenity after a hospital reported\n",
      "her drug use to law enforcement officials, as required by law. She has sandy\n",
      "blond hair and warm blue eyes that open up her leathered face. She cuddled her\n",
      "8-month-old son, Matthew, when CNN visited the center in July. Born with heroin\n",
      "in his system, Matthew was placed on methadone. Today, he is healthy, but\n",
      "studies show drug-exposed babies can face developmental delays and learning\n",
      "disabilities in later years. Watch the women of Serenity Place share their story\n",
      "» In 1997, the South Carolina Supreme Court ruled that a fetus in the third\n",
      "trimester was viable and charges of child abuse, neglect and murder could apply\n",
      "to the mother. Some treatment providers and advocacy experts say this ruling\n",
      "opened the door for prosecutors to charge pregnant women. \"These are addicts who\n",
      "become pregnant,\" says Lynn Paltrow, executive director of the National\n",
      "Advocates for Pregnant Women. \"They aren't women who chose to use drugs after\n",
      "becoming pregnant.\" 'If I didn't have pills, I felt like I had nothing'\n",
      "Hendrix's drug addiction started long before her pregnancy. She was born into a\n",
      "world of drugs. She says her mother was an addict, her father a violent\n",
      "alcoholic who once held a shotgun to her grandmother's head. Hendrix's\n",
      "grandparents rescued her at age 3 by taking her into their home in rural Union,\n",
      "South Carolina. She has fond memories of her grandfather, but one morning,\n",
      "shortly after her 12th birthday, Hendrix watched her 54-year-old grandfather die\n",
      "from a heart attack. The innocent girl started experimenting with drugs, partly\n",
      "because she couldn't cope with her feelings, she says, but mostly to fit in. By\n",
      "the time she turned 18, marijuana use gave way to cocaine and methamphetamine.\n",
      "Then she discovered prescription painkillers: Lortab. OxyContin. Percocet. \"It\n",
      "wasn't even about being high anymore. It was just being able to cope with\n",
      "everyday life,\" Hendrix says. \"If I didn't have the pills, I felt like I had\n",
      "nothing.\" Hendrix could no longer leave bed without the painkillers. Her routine\n",
      "consisted of melting OxyContin pills with water, placing the mixture into a\n",
      "syringe and shooting up, even during her pregnancy. By April of this year, she\n",
      "was six months pregnant and on probation for stealing jewelry to feed her drug\n",
      "habit. She took herself to Serenity Place. Tucked alongside empty factories in a\n",
      "once-thriving textile district, the center looks more like a college dormitory\n",
      "inside than a sterile treatment center. Homemade posters, photo collages and\n",
      "cards congratulating the women for giving birth are strewn along the hallways.\n",
      "There is a communal kitchen and colorful playgrounds. Research shows women who\n",
      "remain with their children during treatment have better chances of defeating\n",
      "their addictions. But a national study in 2005 found that only 3 percent of\n",
      "treatment centers had programs tailored specifically to pregnant women. About 14\n",
      "percent of treatment centers accepted pregnant or postpartum women. The women at\n",
      "Serenity Place follow a rigid schedule that includes therapy, parenting classes\n",
      "and chores. They aren't allowed phone calls or the freedom to surf the Internet\n",
      "without permission. Security cameras guard all exits. The structure can be\n",
      "particularly hard for addicts who grew up in dysfunctional households with few\n",
      "rules. Women spend on average six months in treatment. If a woman violates the\n",
      "rules, she can be removed from the program. On some occasions, women have walked\n",
      "out of the center, leaving their newborns behind. Why prosecute? Why should\n",
      "addicted women be given a chance at motherhood? What about the welfare of the\n",
      "children? These are the questions asked by South Carolina prosecutors, known as\n",
      "solicitors general. Several solicitors general contacted by CNN declined to\n",
      "comment on how many such cases they have prosecuted, but they say that charging\n",
      "pregnant women has become less common in the state. Bob Ariail, solicitor of\n",
      "Greenville, says his district's policy is a far cry from the 1990s, when then-\n",
      "South Carolina Attorney General Charlie Condon, an anti-abortion advocate,\n",
      "publicly declared he would aggressively crack down on pregnant mothers accused\n",
      "of substance abuse. Condon often referred to a fetus as his \"fellow South\n",
      "Carolinian.\" Despite several phone calls by CNN, Condon, who is now a private\n",
      "lawyer in South Carolina, could not be reached for comment. In his two decades\n",
      "as a Democratic state representative, Joe Neal of Columbia, South Carolina, has\n",
      "pushed for more drug treatment funding, an effort he says has little chance in\n",
      "these tough economic times. \"Drug treatment?\" says Neal. \"South Carolina's\n",
      "response to addiction has been incarceration not treatment.\" But Wanda\n",
      "McMichael, manager of women's services at Serenity Place, knows treatment can be\n",
      "beneficial. She guides women like Hendrix and the others through that process.\n",
      "Some who graduated from the program when it began in 1993 still remain clean.\n",
      "\"What's the other alternative if they don't come here?\" says McMichael. \"It's\n",
      "prison. That costs more than treatment, but a lot of people don't know that. If\n",
      "these women don't get this treatment, they are going to die.\" A healthy baby, a\n",
      "new hope Most of the women at Serenity Place say they were little girls the\n",
      "first time they used drugs, some as young as 8. Many could not recall what\n",
      "sobriety felt like until they came to the center. Hendrix says her own mother\n",
      "was 15 when she gave birth to her and then abandoned her. \"She was real pretty.\n",
      "Blond hair, pale skin like me,\" Hendrix says. \"I have her nose and lips. She\n",
      "just didn't respect herself.\" Hendrix doesn't want to be like her mother. Her\n",
      "son, who was born July 24, is healthy. In August, Hendrix left Serenity for an\n",
      "intensive outpatient treatment program, and she and her baby live with her\n",
      "grandmother in Union. Of the 16 women enrolled in Serenity in July, half have\n",
      "graduated, program directors say. Six continue receiving treatment and two have\n",
      "left the center. Three women are on a waiting list to get in, including one who\n",
      "is pregnant. Hendrix hopes to get her GED and enroll in the University of South\n",
      "Carolina to study psychology next year. \"I am happy today,\" she says, \"and\n",
      "that's something I haven't felt in a long time. \"My grandmother. My baby. They\n",
      "make me happy. But you know, it's not about them, jail or none of that anymore.\n",
      "That all changed. I am doing this for me.\" \n",
      "\n",
      "REFERENCE SUMMARY\n",
      "Serenity Place in South Carolina caters treatment programs to pregnant addicts.\n",
      "South Carolina has been known to prosecute women in their third trimester. A\n",
      "pregnant Ashley Hendrix sought treatment earlier this year for her addiction.\n",
      "\"If these women don't get this treatment, they are going to die,\" a counselor\n",
      "says. \n",
      "\n",
      "HYPOTHESIS SUMMARY\n",
      "Some are girlish 22-year-olds; others are women approaching 40. They don't know\n",
      "if they can be good mothers. They don't know if they can be clean mothers. On\n",
      "this summer day, Ashley Hendrix, 24, is eight months pregnant with her first\n",
      "child and one of 16 women at the Phoenix Center's Serenity Place. South\n",
      "Carolina's state supreme court is alone in upholding the prosecution of pregnant\n",
      "women for the damage drugs might do to their unborn children. Since 1989, at\n",
      "least 126 women in South Carolina have been arrested during their pregnancies,\n",
      "according to the National Advocates for Pregnant Women. During the same period,\n",
      "only about 80 pregnant women were arrested on similar charges in all other\n",
      "states combined. Over the last 15 years, that message has driven many women to\n",
      "Serenity Place, a residential treatment center designed for pregnant women and\n",
      "new mothers. Here, the ultimate goal is to help the women recover from their\n",
      "addiction but Serenity also strives to give the women the confidence to become\n",
      "better mothers. They want the women to know there are second chances, and there\n",
      "is hope. Some women arrive here voluntarily. Watch the women of Serenity Place\n",
      "share their story » Some treatment providers and advocacy experts say this\n",
      "ruling opened the door for prosecutors to charge pregnant women. \"These are\n",
      "addicts who become pregnant,\" says Lynn Paltrow, executive director of the\n",
      "National Advocates for Pregnant Women. \"They aren't women who chose to use drugs\n",
      "after becoming pregnant.\" Hendrix's drug addiction started long before her\n",
      "pregnancy. She was born into a world of drugs. It was just being able to cope\n",
      "with everyday life,\" Hendrix says. She took herself to Serenity Place. Research\n",
      "shows women who remain with their children during treatment have better chances\n",
      "of defeating their addictions. But a national study in 2005 found that only 3\n",
      "percent of treatment centers had programs tailored specifically to pregnant\n",
      "women. About 14 percent of treatment centers accepted pregnant or postpartum\n",
      "women. Women spend on average six months in treatment. On some occasions, women\n",
      "have walked out of the center, leaving their newborns behind. Why should\n",
      "addicted women be given a chance at motherhood? \"Drug treatment?\" says Neal.\n",
      "\"South Carolina's response to addiction has been incarceration not treatment.\"\n",
      "But Wanda McMichael, manager of women's services at Serenity Place, knows\n",
      "treatment can be beneficial. She guides women like Hendrix and the others\n",
      "through that process. \"What's the other alternative if they don't come here?\"\n",
      "says McMichael. \"It's prison. That costs more than treatment, but a lot of\n",
      "people don't know that. If these women don't get this treatment, they are going\n",
      "to die.\" Most of the women at Serenity Place say they were little girls the\n",
      "first time they used drugs, some as young as 8. Hendrix says her own mother was\n",
      "15 when she gave birth to her and then abandoned her. She just didn't respect\n",
      "herself.\" Hendrix doesn't want to be like her mother. Of the 16 women enrolled\n",
      "in Serenity in July, half have graduated, program directors say. Three women are\n",
      "on a waiting list to get in, including one who is pregnant. \"I am happy today,\"\n",
      "she says, \"and that's something I haven't felt in a long time. My baby. I am\n",
      "doing this for me.\" \n",
      "\n",
      "Lenght of generated summary:  43\n"
     ]
    }
   ],
   "source": [
    "# investigate very long summaries\n",
    "idx = qty_of_sentences.idxmax()\n",
    "article = corpus.loc[idx, 'article']\n",
    "reference_summary = corpus.loc[idx, 'summary']\n",
    "hypothesis_summary = predictions_test.loc[idx, '1-gram_stem_1.2']\n",
    "nice_print(article, reference_summary, hypothesis_summary)\n",
    "print('Lenght of generated summary: ', len_sent_tokenize(hypothesis_summary))"
   ]
  },
  {
   "cell_type": "code",
   "execution_count": 0,
   "metadata": {
    "colab": {
     "base_uri": "https://localhost:8080/",
     "height": 575
    },
    "colab_type": "code",
    "executionInfo": {
     "elapsed": 509,
     "status": "ok",
     "timestamp": 1560951215830,
     "user": {
      "displayName": "Guilherme Lopasso",
      "photoUrl": "https://lh5.googleusercontent.com/-Q6wxH-XDx-4/AAAAAAAAAAI/AAAAAAAAHiU/tKZS3GXLKSI/s64/photo.jpg",
      "userId": "01495631926165908216"
     },
     "user_tz": 180
    },
    "id": "UjYn8i_F6Mwp",
    "outputId": "00f7784b-ceb3-49d5-fa7b-72ec5669b02a"
   },
   "outputs": [
    {
     "name": "stdout",
     "output_type": "stream",
     "text": [
      "ARTICLE\n",
      "SEATTLE, Washington   -- Software giant Microsoft apologized Wednesday for the\n",
      "apparent bad judgment that led to the head of a black model being swapped for\n",
      "that of a white model in an online advertisement. A black man in an online\n",
      "Microsoft ad was replaced with a white man, bottom, on the company's Polish Web\n",
      "site. The ad -- which showed three business people, one Asian, one white and one\n",
      "black -- was altered on Microsoft's Web site for Poland to place the head of a\n",
      "white man on a black man's body. \"We apologized, fixed the error and we are\n",
      "looking into how it happened,\" said Lou Gellos, a Microsoft spokesman. He said\n",
      "that because the company was still reviewing how the swap occurred he could not\n",
      "comment further. On Microsoft's official page on the social network site\n",
      "Twitter, a posting calls the swap \"a marketing mistake\" and offers \"sincere\n",
      "apologies.\" The episode drew widespread criticism on the Internet after\n",
      "Engadget, an influential tech blog, published news of the gaffe Tuesday. The\n",
      "business Web site CNET.com wrote that the change in models may have been made\n",
      "with the \"racially homogeneous\" Polish market in mind. CNET is a CNN.com content\n",
      "partner. \n",
      "\n",
      "REFERENCE SUMMARY\n",
      "Microsoft apologizes for a gaffe in an ad on its Polish Web site. Ad was altered\n",
      "to replace a black businessman's head with that of a white man. \"We are looking\n",
      "into how it happened,\" says a Microsoft spokesman. \n",
      "\n",
      "HYPOTHESIS SUMMARY\n",
      "A black man in an online Microsoft ad was replaced with a white man, bottom, on\n",
      "the company's Polish Web site. The ad -- which showed three business people, one\n",
      "Asian, one white and one black -- was altered on Microsoft's Web site for Poland\n",
      "to place the head of a white man on a black man's body. \n",
      "\n",
      "Lenght of generated summary:  2\n",
      "ROUGE score of generated summary:  52.5\n"
     ]
    }
   ],
   "source": [
    "# investigate a sampled high score summary\n",
    "idx = predictions_scores.loc[predictions_scores['1-gram_stem_1.2_F1'] > 0.5].sample(1).index[0]\n",
    "article = corpus.loc[idx, 'article']\n",
    "reference_summary = corpus.loc[idx, 'summary']\n",
    "hypothesis_summary = predictions_test.loc[idx, '1-gram_stem_1.2']\n",
    "nice_print(article, reference_summary, hypothesis_summary)\n",
    "print('Lenght of generated summary: ', len_sent_tokenize(hypothesis_summary))\n",
    "print('ROUGE score of generated summary: ', round(predictions_scores.loc[idx, '1-gram_stem_1.2_F1']*100, 1))"
   ]
  },
  {
   "cell_type": "code",
   "execution_count": 0,
   "metadata": {
    "colab": {
     "base_uri": "https://localhost:8080/",
     "height": 1853
    },
    "colab_type": "code",
    "executionInfo": {
     "elapsed": 663,
     "status": "ok",
     "timestamp": 1560951229054,
     "user": {
      "displayName": "Guilherme Lopasso",
      "photoUrl": "https://lh5.googleusercontent.com/-Q6wxH-XDx-4/AAAAAAAAAAI/AAAAAAAAHiU/tKZS3GXLKSI/s64/photo.jpg",
      "userId": "01495631926165908216"
     },
     "user_tz": 180
    },
    "id": "xoKa0ISz7n6f",
    "outputId": "056082c2-a58d-4c08-f09b-b648f5e98a31"
   },
   "outputs": [
    {
     "name": "stdout",
     "output_type": "stream",
     "text": [
      "ARTICLE\n",
      "Time has changed. In fact, most of the country just moved an hour forward. The\n",
      "time change coincides with the conclusion of the 2014 Conservative Political\n",
      "Action Conference, known as CPAC. The activists attending the conference are the\n",
      "Republican Party's shock troops, but some Republican strategists don't want them\n",
      "to shock mainstream voters this fall. Still, the gathering proved somewhat of a\n",
      "litmus test for a schizophrenic conservative base trying to figure out where it\n",
      "stands as the 2014 midterms approach, all the while struggling with change in a\n",
      "country that is changing quite rapidly. It tells you something that one of the\n",
      "biggest applause lines of CPAC wasn't even an applause line. It occurred when\n",
      "Republican Senate Leader Mitch McConnell held a rifle on stage. (The rifle was\n",
      "presented to Sen. Tom Coburn.) It also tells you something that New Jersey Gov.\n",
      "Chris Christie was invited to CPAC this year, now that he is embroiled in the\n",
      "Bridgegate scandal, but he was not invited last year, when he was on his way to\n",
      "re-election in a Democratic state. It seems like CPAC's test is whether you're\n",
      "making the right enemies. If the mainstream media is going after you, then CPAC\n",
      "will invite you. Christie's CPAC speech was directed to the conservative\n",
      "Republican base; he didn't talk beyond them, to a wider audience, as he did last\n",
      "year when he was running for re-election. He referred repeatedly to his anti-\n",
      "abortion positions. He attacked the news media and defended the Koch brothers.\n",
      "But in between the back-slapping and pontificating in the ballrooms and back\n",
      "rooms at CPAC, a new rift emerged inside the GOP. There appears to be a real\n",
      "division and a real debate in the Republican Party between the isolationists and\n",
      "the interventionists. In 1952, it was between Sen. Robert Taft and Gen. Dwight\n",
      "Eisenhower. That debate still isn't settled. In order for President Obama,\n",
      "Hillary Clinton and Joe Biden to be moderates, they just have to present\n",
      "themselves between the extremes of Kentucky Sen. Rand Paul's isolationism and\n",
      "Florida Sen. Marco Rubio's hawkishness—the difference between living in a cave\n",
      "or conducting ourselves so that we're in need of one. And, so far, the\n",
      "conservatives at the conference seemed to be picking up what Paul was laying\n",
      "down. In the annual CPAC straw poll, Paul appeared to be as popular as his\n",
      "father, former Rep. Ron Paul, was in 2010. Rand Paul won 31% of the votes this\n",
      "year (but history shows CPAC straw polls aren't always the best predictors of\n",
      "who will be nominated). Sen. Ted Cruz of Texas, who used his time before CPAC to\n",
      "imply that former Republican presidential nominee Bob Dole was unprincipled, got\n",
      "11%. Rubio, who came in second in 2013, took a nosedive after recommending mild\n",
      "reform of immigration laws, and placed seventh with 6%. Cruz clearly displayed a\n",
      "tin ear and a lack of basic humanity by attacking \"President Bob Dole\" as a\n",
      "failed moderate nominee, now that Bob Dole, an American hero, is in his 90s and\n",
      "out of politics. Cruz is clearly running against the Washington Republican\n",
      "establishment. This strategy may serve him well until the point in the primaries\n",
      "when establishment figures like Karl Rove will unleash millions in negative\n",
      "commercials, the likes of which sank Newt Gingrich. Meanwhile, Texas Gov. Rick\n",
      "Perry gave a pulse-quickening speech that brought the crowd to its feet. Perry\n",
      "praised Republican governors and hit Washington, saying, \"It is time for\n",
      "Washington to focus on the few things the Constitution establishes as the\n",
      "federal government's role. ... Defend our country, provide a cogent foreign\n",
      "policy, and what the heck, deliver the mail, preferably on time and on\n",
      "Saturdays.\" Perry may have forgotten that the Post Office has been independent\n",
      "of Congress since 1971 and is run, by law, as a \"revenue neutral\" (nonprofit)\n",
      "agency. He also apparently forgot the clauses \"insure domestic tranquility\" and\n",
      "\"promote for the general welfare.\" Perry also ignored the duties of Congress,\n",
      "which is just as well. The third branch of government is, by political strategy,\n",
      "so gridlocked that it has all but ceased to function. Perry's emphasis on the\n",
      "role of governors underscores the political reality that mayors, governors and\n",
      "the President must engage in executive workarounds for this nonfunctioning\n",
      "Congress. The Republican Party has been struggling to attract minorities for\n",
      "decades. The party was trounced by the Democrats, who in 2012 got 93% of the\n",
      "African-American vote, 73% of the Asian vote and 71% of the Hispanic vote. CPAC\n",
      "held a panel discussion on minority outreach; a photo 10 minutes into the event\n",
      "embarrassingly showed row upon row upon row of empty chairs. The Republican\n",
      "Party did poorly in its outreach to female voters in 2012, who voted 55% for\n",
      "Obama and only 44% for Republican Mitt Romney. In 2014, at CPAC, attention to\n",
      "the ladies was also wanting. Los Angeles Times writer Robin Abcarian took a\n",
      "challenge from CPAC's chairman, Al Cardenas, to count the number of male and\n",
      "female speakers at CPAC. It came out lopsidedly for the men—by 78%. By\n",
      "definition, conservatives struggle with change. CPAC was proof of the old saying\n",
      "that \"the more things change, the more they stay the same.\" Join us on\n",
      "Facebook.com/CNNOpinion. The opinions expressed in this commentary are solely\n",
      "those of Donna Brazile. \n",
      "\n",
      "REFERENCE SUMMARY\n",
      "Donna Brazile: Conservatives trying to figure out where they stand as 2014\n",
      "midterms approach. Some see themselves as isolationists, while others call for\n",
      "intervention. The party is still struggling to attract women and minorities. \n",
      "\n",
      "HYPOTHESIS SUMMARY\n",
      "Time has changed. The time change coincides with the conclusion of the 2014\n",
      "Conservative Political Action Conference, known as CPAC. The activists attending\n",
      "the conference are the Republican Party's shock troops, but some Republican\n",
      "strategists don't want them to shock mainstream voters this fall. It tells you\n",
      "something that one of the biggest applause lines of CPAC wasn't even an applause\n",
      "line. (The rifle was presented to Sen. Tom Coburn.) Chris Christie was invited\n",
      "to CPAC this year, now that he is embroiled in the Bridgegate scandal, but he\n",
      "was not invited last year, when he was on his way to re-election in a Democratic\n",
      "state. It seems like CPAC's test is whether you're making the right enemies. If\n",
      "the mainstream media is going after you, then CPAC will invite you. Christie's\n",
      "CPAC speech was directed to the conservative Republican base; he didn't talk\n",
      "beyond them, to a wider audience, as he did last year when he was running for\n",
      "re-election. And, so far, the conservatives at the conference seemed to be\n",
      "picking up what Paul was laying down. In the annual CPAC straw poll, Paul\n",
      "appeared to be as popular as his father, former Rep. Ron Paul, was in 2010. Sen.\n",
      "Ted Cruz of Texas, who used his time before CPAC to imply that former Republican\n",
      "presidential nominee Bob Dole was unprincipled, got 11%. Cruz is clearly running\n",
      "against the Washington Republican establishment. The Republican Party has been\n",
      "struggling to attract minorities for decades. In 2014, at CPAC, attention to the\n",
      "ladies was also wanting. By definition, conservatives struggle with change. CPAC\n",
      "was proof of the old saying that \"the more things change, the more they stay the\n",
      "same.\" \n",
      "\n",
      "Lenght of generated summary:  17\n",
      "ROUGE score of generated summary:  9.9\n"
     ]
    }
   ],
   "source": [
    "# investigate a sampled low score summary\n",
    "idx = predictions_scores.loc[(predictions_scores['1-gram_stem_1.2_F1'] > 0.05) &\n",
    "                               (predictions_scores['1-gram_stem_1.2_F1'] < 0.1)].sample(1).index[0]\n",
    "article = corpus.loc[idx, 'article']\n",
    "reference_summary = corpus.loc[idx, 'summary']\n",
    "hypothesis_summary = predictions_test.loc[idx, '1-gram_stem_1.2']\n",
    "nice_print(article, reference_summary, hypothesis_summary)\n",
    "print('Lenght of generated summary: ', len_sent_tokenize(hypothesis_summary))\n",
    "print('ROUGE score of generated summary: ', round(predictions_scores.loc[idx, '1-gram_stem_1.2_F1']*100, 1))"
   ]
  }
 ],
 "metadata": {
  "accelerator": "GPU",
  "colab": {
   "collapsed_sections": [],
   "name": "Prototype_v1_2.ipynb",
   "provenance": [
    {
     "file_id": "1PkIj1WrQ_yIRoOk4ZY1mAAJqPY_-yIIy",
     "timestamp": 1559659975715
    }
   ],
   "version": "0.3.2"
  },
  "kernelspec": {
   "display_name": "Python 3",
   "language": "python",
   "name": "python3"
  },
  "language_info": {
   "codemirror_mode": {
    "name": "ipython",
    "version": 3
   },
   "file_extension": ".py",
   "mimetype": "text/x-python",
   "name": "python",
   "nbconvert_exporter": "python",
   "pygments_lexer": "ipython3",
   "version": "3.7.3"
  }
 },
 "nbformat": 4,
 "nbformat_minor": 1
}
